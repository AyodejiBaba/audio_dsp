{
 "cells": [
  {
   "cell_type": "code",
   "execution_count": null,
   "metadata": {},
   "outputs": [],
   "source": [
    "# Python\n",
    "from flask import Flask, Response\n",
    "from time import sleep\n",
    "import io\n",
    "import picamera\n",
    "\n",
    "# Initialize Flask app\n",
    "app = Flask(__name__)\n",
    "\n",
    "# Function to generate video frames\n",
    "def generate_frames():\n",
    "  camera = picamera.PiCamera()\n",
    "  camera.resolution = (320, 240)  # Change resolution as needed\n",
    "  camera.framerate = 10  # Change framerate as needed\n",
    "\n",
    "  # Start capturing frames\n",
    "  stream = io.BytesIO()\n",
    "  for foo in camera.capture_continuous(stream, format='jpeg', use_video_port=True):\n",
    "    # Return the current frame\n",
    "    yield (b'--frame\\r\\n'\n",
    "           b'Content-Type: image/jpeg\\r\\n\\r\\n' + foo.raw + b'\\r\\n')\n",
    "    # Reset stream for the next frame\n",
    "    stream.seek(0)\n",
    "    stream.truncate()\n",
    "\n",
    "    # Sleep to maintain desired framerate\n",
    "    sleep(1/camera.framerate)\n",
    "\n",
    "  camera.close()\n",
    "\n",
    "@app.route('/video_feed')\n",
    "def video_feed():\n",
    "  # Video streaming route\n",
    "  return Response(generate_frames(), mimetype='multipart/x-mixed-replace; boundary=frame')\n",
    "\n",
    "if __name__ == '__main__':\n",
    "  # Start Flask app\n",
    "  app.run(host='0.0.0.0', debug=False)"
   ]
  }
 ],
 "metadata": {
  "language_info": {
   "name": "python"
  }
 },
 "nbformat": 4,
 "nbformat_minor": 2
}

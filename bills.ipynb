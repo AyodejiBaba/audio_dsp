{
 "cells": [
  {
   "cell_type": "markdown",
   "metadata": {},
   "source": [
    "Calculation of How much Bills we actually pay per Month\n",
    "And How much we actually earn - for savings and investments and life enjoyment\n"
   ]
  },
  {
   "cell_type": "code",
   "execution_count": 6,
   "metadata": {},
   "outputs": [
    {
     "name": "stdout",
     "output_type": "stream",
     "text": [
      "Total Recurring Deductions from ABN AMRO: 2059.13 € %\n"
     ]
    }
   ],
   "source": [
    "# from ABN AMRO App | monthly recurring deductions as seen on the bank App\n",
    "\n",
    "mortgage_abn_amro = 1508.72\n",
    "health_insurance = 303.50\n",
    "energy_vattenfall = 158\n",
    "solar_panel_zelfstroom = 67.91\n",
    "water_vitens = 21\n",
    "\n",
    "total_abn_amro_bank = mortgage_abn_amro + health_insurance + energy_vattenfall + solar_panel_zelfstroom + water_vitens\n",
    "\n",
    "print(f\"Total Recurring Deductions from ABN AMRO: {total_abn_amro_bank} € %\")"
   ]
  },
  {
   "cell_type": "code",
   "execution_count": 49,
   "metadata": {},
   "outputs": [
    {
     "name": "stdout",
     "output_type": "stream",
     "text": [
      "updated total = 3193.7199999999993 € \n"
     ]
    }
   ],
   "source": [
    "# other recurring payments not seen on the ABN AMRO Bank APP\n",
    "\n",
    "lelystad_municipality_tax = 95.85  # payable at the end of every month beginning from Feb. 28, 2025. call them today to inititate it. # sort your TAXES!!!!\n",
    "feht_health_app_dev = 175\n",
    "amex_card_balance = 500 # if we keep it at or below 500 monthly\n",
    "\n",
    "# subcriptions\n",
    "basic_fit = 29.99 # remove by May 2025\n",
    "netflix = 13.49\n",
    "# soundcloud = # remove today\n",
    "# audible = # remove today\n",
    "car_fuel = 80\n",
    "car_insurance = 51.22\n",
    "home_insurance = 43.75\n",
    "phone_bill_wifey_kpn = 66.75 # THIS IS WITHOUT EXTRA ROAMING CHARGES ensure you do not use mobile data and mobile sms when abroad, switch your SIM OFF totally and rely on WIFI and whatsapp for communication. SWITCH IT BACK ON WEHN IN NL.\n",
    "phone_bill_hubby_kpn = 21.56 # THIS IS WITHOUT EXTRA ROAMING CHARGES ensure you do not use mobile data and mobile sms when abroad, switch your SIM OFF totally and rely on WIFI and whatsapp for communication. SWITCH IT BACK ON WEHN IN NL.\n",
    "home_internet_kpn = 56.98\n",
    "\n",
    "updated_bills_total = total_abn_amro_bank + feht_health_app_dev + amex_card_balance + lelystad_municipality_tax + basic_fit + netflix + phone_bill_hubby_kpn + home_internet_kpn + phone_bill_wifey_kpn + car_fuel + home_insurance + car_insurance\n",
    "\n",
    "print(f\"updated total = {updated_bills_total} € \")\n"
   ]
  },
  {
   "cell_type": "code",
   "execution_count": 50,
   "metadata": {},
   "outputs": [
    {
     "name": "stdout",
     "output_type": "stream",
     "text": [
      "updated balance = 1998.2800000000007\n"
     ]
    }
   ],
   "source": [
    "# remaining balance from current income from LV Energy\n",
    "\n",
    "income_from_LV_Energy = 5192\n",
    "\n",
    "updated_balance = income_from_LV_Energy - updated_bills_total\n",
    "\n",
    "print(f\"updated balance = {updated_balance}\")"
   ]
  },
  {
   "cell_type": "code",
   "execution_count": 51,
   "metadata": {},
   "outputs": [
    {
     "name": "stdout",
     "output_type": "stream",
     "text": [
      "Percentage of bills: 61.46%\n",
      "Percentage of savings: 38.54%\n"
     ]
    }
   ],
   "source": [
    "# Percentage Expenses v Percentage Savings\n",
    "\n",
    "# Define income and bills\n",
    "income = 5196.07\n",
    "bills = updated_bills_total\n",
    "\n",
    "# Calculate percentages\n",
    "bills_percentage = (bills / income) * 100\n",
    "savings_percentage = ((income - bills) / income) * 100\n",
    "\n",
    "# Print results\n",
    "print(f\"Percentage of bills: {bills_percentage:.2f}%\")\n",
    "print(f\"Percentage of savings: {savings_percentage:.2f}%\")\n"
   ]
  },
  {
   "cell_type": "code",
   "execution_count": null,
   "metadata": {},
   "outputs": [
    {
     "data": {
      "text/plain": [
       "113.47999999999999"
      ]
     },
     "execution_count": 1,
     "metadata": {},
     "output_type": "execute_result"
    }
   ],
   "source": [
    "# 2025-2013\n",
    "# 95.85*2\n",
    "# 15*9\n",
    "# 42.23 + 71.25\n"
   ]
  },
  {
   "cell_type": "code",
   "execution_count": null,
   "metadata": {},
   "outputs": [],
   "source": []
  }
 ],
 "metadata": {
  "kernelspec": {
   "display_name": ".venv",
   "language": "python",
   "name": "python3"
  },
  "language_info": {
   "codemirror_mode": {
    "name": "ipython",
    "version": 3
   },
   "file_extension": ".py",
   "mimetype": "text/x-python",
   "name": "python",
   "nbconvert_exporter": "python",
   "pygments_lexer": "ipython3",
   "version": "3.12.8"
  }
 },
 "nbformat": 4,
 "nbformat_minor": 2
}

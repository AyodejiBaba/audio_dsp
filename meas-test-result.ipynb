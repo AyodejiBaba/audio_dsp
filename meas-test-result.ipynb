{
 "cells": [
  {
   "cell_type": "code",
   "execution_count": null,
   "metadata": {},
   "outputs": [],
   "source": [
    "# pwd    \n",
    "\n",
    "# change to desired working directory\n",
    "\n",
    "import os\n",
    "\n",
    "# Change to your desired directory (update the path accordingly)\n",
    "desired_directory = \"c:\\\\Users\\\\ayode\\\\Downloads\\\\Azure Data Engineer\\\\audio_dsp\\\\lvenergy-results\"  # Change this path\n",
    "os.chdir(desired_directory)  # Change working directory\n",
    "\n",
    "print(f\"Current working directory: {os.getcwd()}\")  # Verify the change\n"
   ]
  },
  {
   "cell_type": "code",
   "execution_count": null,
   "metadata": {},
   "outputs": [],
   "source": [
    "pip install pyvisa"
   ]
  },
  {
   "cell_type": "code",
   "execution_count": null,
   "metadata": {},
   "outputs": [],
   "source": []
  },
  {
   "cell_type": "code",
   "execution_count": null,
   "metadata": {},
   "outputs": [],
   "source": [
    "import pyvisa\n",
    "import csv\n",
    "import time\n",
    "\n",
    "rm = pyvisa.ResourceManager()\n",
    "devices = rm.list_resources()\n",
    "print(\"Available VISA devices:\", devices)"
   ]
  },
  {
   "cell_type": "code",
   "execution_count": null,
   "metadata": {},
   "outputs": [],
   "source": [
    "rm = pyvisa.ResourceManager()\n",
    "scope = rm.open_resource(\"USB0::0xF4EC::0xEE38::SDSMMFCD6R2214::INSTR\")\n",
    "scope.timeout = 10000  # Set timeout to 10 seconds\n",
    "print(\"Connected to:\", scope)\n",
    "# scope.query(\"C1:PAVA? CRMS\")"
   ]
  },
  {
   "cell_type": "code",
   "execution_count": null,
   "metadata": {},
   "outputs": [],
   "source": [
    "scope.query(\"C1:PAVA? CRMS\")"
   ]
  },
  {
   "cell_type": "code",
   "execution_count": null,
   "metadata": {},
   "outputs": [],
   "source": [
    "import os\n",
    "import pyvisa\n",
    "import csv\n",
    "import time\n",
    "from datetime import datetime"
   ]
  },
  {
   "cell_type": "code",
   "execution_count": null,
   "metadata": {},
   "outputs": [],
   "source": [
    "# Set working directory\n",
    "desired_directory = r\"c:\\Users\\ayode\\Downloads\\Azure Data Engineer\\audio_dsp\\lvenergy-results\"  # Update your path\n",
    "os.makedirs(desired_directory, exist_ok=True)  # Ensure directory exists\n",
    "os.chdir(desired_directory)\n",
    "\n",
    "print(f\"✅ Working directory set to: {os.getcwd()}\")\n",
    "\n",
    "# Initialize VISA connection\n",
    "rm = pyvisa.ResourceManager()\n",
    "devices = rm.list_resources()\n",
    "print(\"🔍 Available VISA devices:\", devices)\n",
    "\n",
    "try:\n",
    "    scope = rm.open_resource(\"USB0::0xF4EC::0xEE38::SDSMMFCD6R2214::INSTR\")  # Update your oscilloscope address\n",
    "    scope.timeout = 10  # Set timeout to 10 seconds\n",
    "    print(f\"✅ Connected to: {scope.query('*IDN?')}\")\n",
    "except Exception as e:\n",
    "    print(f\"❌ Error connecting to oscilloscope: {e}\")\n",
    "    exit()\n"
   ]
  },
  {
   "cell_type": "code",
   "execution_count": null,
   "metadata": {},
   "outputs": [],
   "source": [
    "measurements = {\n",
    "    \"PKPK\": \"C1:PAVA? PKPK\",\n",
    "    \"RMS\": \"C1:PAVA? CRMS\",\n",
    "    \"FREQ\": \"C1:PAVA? FREQ\"\n",
    "}\n",
    "\n",
    "# Create a timestamped CSV filename\n",
    "timestamp = datetime.now().strftime(\"%Y-%m-%d_%H-%M-%S\")\n",
    "csv_filename = f\"measurement_results_{timestamp}.csv\"\n"
   ]
  },
  {
   "cell_type": "code",
   "execution_count": null,
   "metadata": {},
   "outputs": [],
   "source": [
    "with open(csv_filename, \"w\", newline=\"\") as file:\n",
    "    writer = csv.writer(file)\n",
    "    writer.writerow([\"Time (s)\", \"PKPK (V)\", \"RMS (V)\", \"Frequency (Hz)\"])\n",
    "\n",
    "    print(\"📊 Starting measurements...\")\n",
    "\n",
    "    # Collect multiple measurements\n",
    "    for i in range(3):  # Adjust the number of samples\n",
    "        timestamp = time.time()  # Get current time\n",
    "        row_data = [f\"{timestamp:.3f}\"]  # Format timestamp to 3 decimal places\n",
    "\n",
    "        for key, command in measurements.items():\n",
    "            try:\n",
    "                response = scope.query(command)  # Query oscilloscope\n",
    "                value = response.split(\",\")[1].strip()  # Extract value\n",
    "                numeric_value = float(value.strip(\"VHz\"))  # Convert to float\n",
    "                formatted_value = f\"{numeric_value:.5g}\"  # Format to 3 significant figures\n",
    "                row_data.append(formatted_value)\n",
    "                print(f\"✅ {key}: {formatted_value}\")  # Display result\n",
    "            except Exception as e:\n",
    "                print(f\"⚠️ Error retrieving {key}: {e}\")\n",
    "                row_data.append(\"ERROR\")  # Mark errors in CSV\n",
    "\n",
    "        # Write row to CSV\n",
    "        writer.writerow(row_data)\n",
    "        print(f\"💾 Data saved: {row_data}\\n\")\n",
    "        time.sleep(1)  # Adjust sampling rate\n",
    "\n",
    "# Calculate execution time\n",
    "execution_time = time.time() - timestamp\n",
    "\n",
    "print(f\"✅ Measurement completed. Data saved in: {csv_filename}\")\n",
    "print(f\"⏱️ Execution time: {execution_time:.2f} seconds\")\n"
   ]
  },
  {
   "cell_type": "code",
   "execution_count": null,
   "metadata": {},
   "outputs": [],
   "source": [
    "scope.query(\"C1:PAVA? CRMS\")"
   ]
  },
  {
   "cell_type": "code",
   "execution_count": null,
   "metadata": {},
   "outputs": [],
   "source": []
  },
  {
   "cell_type": "code",
   "execution_count": null,
   "metadata": {},
   "outputs": [],
   "source": []
  },
  {
   "cell_type": "code",
   "execution_count": null,
   "metadata": {},
   "outputs": [],
   "source": []
  },
  {
   "cell_type": "code",
   "execution_count": null,
   "metadata": {},
   "outputs": [],
   "source": []
  },
  {
   "cell_type": "code",
   "execution_count": null,
   "metadata": {},
   "outputs": [],
   "source": [
    "scope.query(\"C1:PAVA? CRMS\")\n",
    "# print(pk_pk)"
   ]
  },
  {
   "cell_type": "code",
   "execution_count": null,
   "metadata": {},
   "outputs": [],
   "source": []
  },
  {
   "cell_type": "code",
   "execution_count": null,
   "metadata": {},
   "outputs": [],
   "source": [
    "pwd         # check current working directory\n",
    "\n",
    "\n",
    "# change to desired working directory\n",
    "\n",
    "import os\n",
    "\n",
    "# Change to your desired directory (update the path accordingly)\n",
    "desired_directory = \"c:\\\\Users\\\\ayode\\\\Downloads\\\\Azure Data Engineer\\\\audio_dsp\\\\lvenergy-results\"  # Change this path\n",
    "os.chdir(desired_directory)  # Change working directory\n",
    "\n",
    "print(f\"Current working directory: {os.getcwd()}\")  # Verify the change\n",
    "\n",
    "# check if measurement oscilloscope is available for remote connection via VISA\n",
    "\n",
    "import pyvisa\n",
    "import csv\n",
    "import time\n",
    "\n",
    "rm = pyvisa.ResourceManager()\n",
    "devices = rm.list_resources()\n",
    "print(\"Available VISA devices:\", devices)\n",
    "# Initialize VISA connection and confirm Connection\n",
    "\n",
    "rm = pyvisa.ResourceManager()\n",
    "scope = rm.open_resource(\"USB0::0xF4EC::0xEE38::SDSMMFCD6R2214::INSTR\")\n",
    "scope.timeout = 10000  # Set timeout to 10 seconds\n",
    "print(\"Connected to:\", scope)\n",
    "# use this to clear the scope if miscellanous error shows again.\n",
    "\n",
    "# scope.timeout = 20000  # 20 seconds\n",
    "# scope.clear()\n",
    "# simple request to test connnection to measuring oscilloscope\n",
    "\n",
    "response = scope.query(\"*OPC?\")\n",
    "print(response)\n",
    "# test to retrieve pk-pk from osc\n",
    "pk_pk = scope.query(\"C1:PAVA? PKPK\")\n",
    "print(pk_pk)\n",
    "# Measurement begins\n",
    "\n",
    "import pyvisa\n",
    "import csv\n",
    "import time\n",
    "\n",
    "\n",
    "# Track start time\n",
    "start_time = time.time()\n",
    "\n",
    "# Initialize VISA connection\n",
    "rm = pyvisa.ResourceManager()\n",
    "scope = rm.open_resource(\"USB0::0xF4EC::0xEE38::SDSMMFCD6R2214::INSTR\")  # Update with your oscilloscope address\n",
    "scope.timeout = 10000  # 10 seconds timeout\n",
    "\n",
    "# Define measurement queries\n",
    "measurements = {\n",
    "    \"PKPK\": \"C1:PAVA? PKPK\",\n",
    "    \"RMS\": \"C1:PAVA? CRMS\",\n",
    "    \"FREQ\": \"C1:PAVA? FREQ\"\n",
    "}\n",
    "\n",
    "# Open CSV file in append mode\n",
    "csv_filename = \"tests\"\n",
    "# csv_filename = \"piezo_only_on_speaker-vib-major.csv\"\n",
    "with open(csv_filename, \"a\", newline=\"\") as file:\n",
    "    writer = csv.writer(file)\n",
    "\n",
    "    # Write header if file is empty\n",
    "    file.seek(0, 2)  # Move to the end\n",
    "    if file.tell() == 0:\n",
    "        writer.writerow([\"Time (s)\", \"PKPK (V)\", \"RMS (V)\", \"Frequency (Hz)\"])\n",
    "\n",
    "    # Collect multiple measurements\n",
    "    for i in range(3):  # Adjust the number of samples\n",
    "        timestamp = time.time()  # Get current time\n",
    "        row_data = [f\"{timestamp:.3f}\"]  # Format timestamp to 3 decimal places\n",
    "\n",
    "        for key, command in measurements.items():\n",
    "\n",
    "            # time.sleep(0.15)\n",
    "\n",
    "            try:\n",
    "                response = scope.query(command)  # Query oscilloscope\n",
    "\n",
    "                value = response.split(\",\")[1].strip()  # Extract value & clean it\n",
    "                numeric_value = float(value.strip(\"VHz\"))  # Convert to float\n",
    "                formatted_value = f\"{numeric_value:.5g}\"  # Format to 3 significant figures\n",
    "                row_data.append(formatted_value)\n",
    "                print(f\"{key}: {formatted_value}\")  # Display result\n",
    "            except Exception as e:\n",
    "                print(f\"Error retrieving {key}: {e}\")\n",
    "                row_data.append(\"ERROR\")  # Mark errors in CSV\n",
    "\n",
    "        # Write clean row to CSV\n",
    "        writer.writerow(row_data)\n",
    "\n",
    "        print(f\"Data saved: {row_data}\\n\")\n",
    "        time.sleep(1)  # Adjust sampling rate\n",
    "\n",
    "# print(f\"✅ Measurement completed. Data saved in {csv_filename}\")\n",
    "# Track end time\n",
    "end_time = time.time()\n",
    "execution_time = end_time - start_time  # Calculate duration\n",
    "\n",
    "print(f\"✅ Measurement completed. Data saved in {csv_filename}\")\n",
    "print(f\"⏱️ Execution time: {execution_time:.2f} seconds\")\n"
   ]
  },
  {
   "cell_type": "code",
   "execution_count": null,
   "metadata": {},
   "outputs": [],
   "source": []
  },
  {
   "cell_type": "code",
   "execution_count": null,
   "metadata": {},
   "outputs": [],
   "source": [
    "import os\n",
    "import pyvisa\n",
    "import csv\n",
    "import time\n",
    "from datetime import datetime\n",
    "\n"
   ]
  },
  {
   "cell_type": "code",
   "execution_count": null,
   "metadata": {},
   "outputs": [],
   "source": [
    "# Set working directory\n",
    "desired_directory = r\"c:\\Users\\ayode\\Downloads\\Azure Data Engineer\\audio_dsp\\lvenergy-results\"  # Update your path\n",
    "os.makedirs(desired_directory, exist_ok=True)  # Ensure directory exists\n",
    "os.chdir(desired_directory)\n",
    "\n",
    "print(f\"✅ Working directory set to: {os.getcwd()}\")\n",
    "\n",
    "# Initialize VISA connection\n",
    "rm = pyvisa.ResourceManager()\n",
    "devices = rm.list_resources()\n",
    "print(\"🔍 Available VISA devices:\", devices)\n",
    "\n",
    "try:\n",
    "    scope = rm.open_resource(\"USB0::0xF4EC::0xEE38::SDSMMFCD6R2214::INSTR\")  # Update your oscilloscope address\n",
    "    scope.timeout = 10  # Set timeout to 10 seconds\n",
    "    print(f\"✅ Connected to: {scope.query('*IDN?')}\")\n",
    "except Exception as e:\n",
    "    print(f\"❌ Error connecting to oscilloscope: {e}\")\n",
    "    exit()"
   ]
  },
  {
   "cell_type": "code",
   "execution_count": null,
   "metadata": {},
   "outputs": [],
   "source": [
    "# Define measurement queries\n",
    "measurements = {\n",
    "    \"PKPK\": \"C2:PAVA? PKPK\",\n",
    "    \"RMS\": \"C2:PAVA? CRMS\",\n",
    "    \"FREQ\": \"C2:PAVA? FREQ\"\n",
    "}\n",
    "\n",
    "# Create a timestamped CSV filename\n",
    "timestamp = datetime.now().strftime(\"%Y-%m-%d_%H-%M-%S\")\n",
    "csv_filename = f\"measurement_results_{timestamp}.csv\"\n",
    "\n",
    "# Open CSV file and write header\n",
    "with open(csv_filename, \"w\", newline=\"\") as file:\n",
    "    writer = csv.writer(file)\n",
    "    writer.writerow([\"Time (s)\", \"PKPK (V)\", \"RMS (V)\", \"Frequency (Hz)\"])\n",
    "\n",
    "    print(\"📊 Starting measurements...\")\n",
    "\n",
    "    # Collect multiple measurements\n",
    "    for i in range(3):  # Adjust the number of samples\n",
    "        timestamp = time.time()  # Get current time\n",
    "        row_data = [f\"{timestamp:.3f}\"]  # Format timestamp to 3 decimal places\n",
    "\n",
    "        for key, command in measurements.items():\n",
    "            try:\n",
    "                response = scope.query(command)  # Query oscilloscope\n",
    "                value = response.split(\",\")[1].strip()  # Extract value\n",
    "                numeric_value = float(value.strip(\"VHz\"))  # Convert to float\n",
    "                formatted_value = f\"{numeric_value:.5g}\"  # Format to 3 significant figures\n",
    "                row_data.append(formatted_value)\n",
    "                print(f\"✅ {key}: {formatted_value}\")  # Display result\n",
    "            except Exception as e:\n",
    "                print(f\"⚠️ Error retrieving {key}: {e}\")\n",
    "                row_data.append(\"ERROR\")  # Mark errors in CSV\n",
    "\n",
    "        # Write row to CSV\n",
    "        writer.writerow(row_data)\n",
    "        print(f\"💾 Data saved: {row_data}\\n\")\n",
    "        time.sleep(1)  # Adjust sampling rate\n",
    "\n",
    "# Calculate execution time\n",
    "execution_time = time.time() - timestamp\n",
    "\n",
    "print(f\"✅ Measurement completed. Data saved in: {csv_filename}\")\n",
    "print(f\"⏱️ Execution time: {execution_time:.2f} seconds\")\n"
   ]
  },
  {
   "cell_type": "code",
   "execution_count": null,
   "metadata": {},
   "outputs": [],
   "source": [
    "rm = pyvisa.ResourceManager()\n",
    "devices = rm.list_resources()\n",
    "print(\"🔍 Available VISA devices:\", devices)"
   ]
  },
  {
   "cell_type": "code",
   "execution_count": null,
   "metadata": {},
   "outputs": [],
   "source": [
    "import os\n",
    "import pyvisa\n",
    "import csv\n",
    "import time\n",
    "from datetime import datetime"
   ]
  },
  {
   "cell_type": "code",
   "execution_count": null,
   "metadata": {},
   "outputs": [],
   "source": [
    "rm = pyvisa.ResourceManager()\n",
    "devices = rm.list_resources()\n",
    "print(\"🔍 Available VISA devices:\", devices)"
   ]
  },
  {
   "cell_type": "code",
   "execution_count": null,
   "metadata": {},
   "outputs": [],
   "source": [
    "import os\n",
    "import pyvisa\n",
    "import csv\n",
    "import time\n",
    "from datetime import datetime\n",
    "\n",
    "# Set working directory\n",
    "desired_directory = r\"c:\\Users\\ayode\\Downloads\\Azure Data Engineer\\audio_dsp\\lvenergy-results\"  # Update your path\n",
    "os.makedirs(desired_directory, exist_ok=True)  # Ensure directory exists\n",
    "os.chdir(desired_directory)\n",
    "\n",
    "print(f\"✅ Working directory set to: {os.getcwd()}\")\n",
    "\n",
    "# Initialize VISA connection\n",
    "rm = pyvisa.ResourceManager()\n",
    "devices = rm.list_resources()\n",
    "print(\"🔍 Available VISA devices:\", devices)\n",
    "\n",
    "try:\n",
    "    scope = rm.open_resource(\"USB0::0xF4EC::0xEE38::SDSMMFCD6R2214::INSTR\")  # Update your oscilloscope address\n",
    "    scope.timeout = 10  # Set timeout to 10 seconds\n",
    "    print(f\"✅ Connected to: {scope.query('*IDN?')}\")\n",
    "except Exception as e:\n",
    "    print(f\"❌ Error connecting to oscilloscope: {e}\")\n",
    "    exit()\n",
    "\n",
    "# Clear scope if necessary\n",
    "# scope.clear()\n",
    "\n",
    "# Define measurement queries\n",
    "measurements = {\n",
    "    \"PKPK\": \"C2:PAVA? PKPK\",\n",
    "    \"RMS\": \"C2:PAVA? CRMS\",\n",
    "    \"FREQ\": \"C2:PAVA? FREQ\"\n",
    "}\n",
    "\n",
    "# Create a timestamped CSV filename\n",
    "timestamp = datetime.now().strftime(\"%Y-%m-%d_%H-%M-%S\")\n",
    "csv_filename = f\"measurement_results_{timestamp}.csv\"\n",
    "\n",
    "# Open CSV file and write header\n",
    "with open(csv_filename, \"w\", newline=\"\") as file:\n",
    "    writer = csv.writer(file)\n",
    "    writer.writerow([\"Time (s)\", \"PKPK (V)\", \"RMS (V)\", \"Frequency (Hz)\"])\n",
    "\n",
    "    print(\"📊 Starting measurements...\")\n",
    "\n",
    "    # Collect multiple measurements\n",
    "    for i in range(3):  # Adjust the number of samples\n",
    "        timestamp = time.time()  # Get current time\n",
    "        row_data = [f\"{timestamp:.3f}\"]  # Format timestamp to 3 decimal places\n",
    "\n",
    "        for key, command in measurements.items():\n",
    "            try:\n",
    "                response = scope.query(command)  # Query oscilloscope\n",
    "                value = response.split(\",\")[1].strip()  # Extract value\n",
    "                numeric_value = float(value.strip(\"VHz\"))  # Convert to float\n",
    "                formatted_value = f\"{numeric_value:.5g}\"  # Format to 3 significant figures\n",
    "                row_data.append(formatted_value)\n",
    "                print(f\"✅ {key}: {formatted_value}\")  # Display result\n",
    "            except Exception as e:\n",
    "                print(f\"⚠️ Error retrieving {key}: {e}\")\n",
    "                row_data.append(\"ERROR\")  # Mark errors in CSV\n",
    "\n",
    "        # Write row to CSV\n",
    "        writer.writerow(row_data)\n",
    "        print(f\"💾 Data saved: {row_data}\\n\")\n",
    "        time.sleep(1)  # Adjust sampling rate\n",
    "\n",
    "# Calculate execution time\n",
    "execution_time = time.time() - timestamp\n",
    "\n",
    "print(f\"✅ Measurement completed. Data saved in: {csv_filename}\")\n",
    "print(f\"⏱️ Execution time: {execution_time:.2f} seconds\")\n"
   ]
  },
  {
   "cell_type": "code",
   "execution_count": null,
   "metadata": {},
   "outputs": [],
   "source": [
    "scope.timeout = 5000  # Set timeout to 5 seconds\n",
    "response = scope.query('*IDN?')\n"
   ]
  },
  {
   "cell_type": "code",
   "execution_count": null,
   "metadata": {},
   "outputs": [],
   "source": [
    "scope.baud_rate = 9600\n",
    "scope.data_bits = 8\n",
    "scope.parity = pyvisa.constants.Parity.none\n",
    "scope.stop_bits = pyvisa.constants.StopBits.one\n"
   ]
  },
  {
   "cell_type": "code",
   "execution_count": null,
   "metadata": {},
   "outputs": [],
   "source": [
    "scope.clear()\n",
    "response = scope.query('*IDN?')\n"
   ]
  },
  {
   "cell_type": "code",
   "execution_count": null,
   "metadata": {},
   "outputs": [],
   "source": [
    "import pyvisa\n",
    "rm = pyvisa.ResourceManager()\n",
    "# rm.close()  # Close any existing VISA sessions\n",
    "rm = pyvisa.ResourceManager()  # Reinitialize\n",
    "print(rm.list_resources())  # Check available instruments\n"
   ]
  },
  {
   "cell_type": "code",
   "execution_count": null,
   "metadata": {},
   "outputs": [],
   "source": [
    "import time\n",
    "\n",
    "print(scope.query(\"*IDN?\"))\n",
    "# time.sleep(0.5)  # Wait 500ms before next query\n",
    "# print(scope.query(\"C1:PAVA? CRMS\"))\n"
   ]
  },
  {
   "cell_type": "code",
   "execution_count": null,
   "metadata": {},
   "outputs": [],
   "source": [
    "import pyvisa\n",
    "\n",
    "# Initialize VISA resource manager\n",
    "rm = pyvisa.ResourceManager()\n",
    "\n",
    "# List available VISA devices\n",
    "devices = rm.list_resources()\n",
    "print(\"Available Devices:\", devices)\n",
    "\n",
    "# Open connection to the oscilloscope (Replace 'USB0::...' with your device address)\n",
    "scope = rm.open_resource(devices[0])  # Change index if needed\n",
    "\n",
    "# Set proper termination characters (modify if required)\n",
    "scope.write_termination = '\\n'\n",
    "scope.read_termination = '\\n'\n",
    "\n",
    "# Query the frequency (command depends on oscilloscope model)\n",
    "scope.write(\"C1:PAVA? FREQ\")  # Try \"FREQ?\" if this doesn’t work\n",
    "frequency = scope.read()\n",
    "\n",
    "print(f\"Measured Frequency: {frequency} Hz\")\n",
    "\n",
    "# Close the session\n",
    "scope.close()\n"
   ]
  },
  {
   "cell_type": "code",
   "execution_count": null,
   "metadata": {},
   "outputs": [],
   "source": [
    "print(scope.query(\"*IDN?\"))\n",
    "# scope.clear()  # Flush buffer\n",
    "print(scope.query(\"C1:PAVA? CRMS\"))  # Next command\n"
   ]
  },
  {
   "cell_type": "code",
   "execution_count": null,
   "metadata": {},
   "outputs": [],
   "source": [
    "# Initialize VISA connection\n",
    "rm = pyvisa.ResourceManager()\n",
    "devices = rm.list_resources()\n",
    "print(\"🔍 Available VISA devices:\", devices)\n"
   ]
  },
  {
   "cell_type": "code",
   "execution_count": null,
   "metadata": {},
   "outputs": [],
   "source": [
    "scope = rm.open_resource(\"USB0::0xF4EC::0xEE38::SDSMMFCD6R2214::INSTR\")  # Update your oscilloscope address\n",
    "print(f\"✅ Connected to: {scope.query('*IDN?')}\")"
   ]
  },
  {
   "cell_type": "code",
   "execution_count": 3,
   "metadata": {},
   "outputs": [
    {
     "name": "stdout",
     "output_type": "stream",
     "text": [
      "✅ Working directory set to: c:\\Users\\ayode\\Downloads\\Azure Data Engineer\\audio_dsp\\lvenergy-results\n"
     ]
    }
   ],
   "source": [
    "import os\n",
    "import pyvisa\n",
    "import csv\n",
    "import time\n",
    "from datetime import datetime\n",
    "\n",
    "# Set working directory\n",
    "desired_directory = r\"c:\\Users\\ayode\\Downloads\\Azure Data Engineer\\audio_dsp\\lvenergy-results\"  # Update path\n",
    "os.makedirs(desired_directory, exist_ok=True)\n",
    "os.chdir(desired_directory)\n",
    "\n",
    "print(f\"✅ Working directory set to: {os.getcwd()}\")"
   ]
  },
  {
   "cell_type": "code",
   "execution_count": 4,
   "metadata": {},
   "outputs": [
    {
     "name": "stdout",
     "output_type": "stream",
     "text": [
      "🔍 Available VISA devices: ('USB0::0xF4EC::0xEE38::SDSMMFCD6R2214::INSTR', 'ASRL3::INSTR', 'ASRL4::INSTR', 'ASRL5::INSTR')\n",
      "✅ Connected to: Siglent Technologies,SDS1104X-E,SDSMMFCD6R2214,8.3.6.1.37R8\n",
      "\n"
     ]
    }
   ],
   "source": [
    "rm = pyvisa.ResourceManager()\n",
    "devices = rm.list_resources()\n",
    "print(\"🔍 Available VISA devices:\", devices)\n",
    "\n",
    "try:\n",
    "    scope = rm.open_resource(\"USB0::0xF4EC::0xEE38::SDSMMFCD6R2214::INSTR\")  # Update oscilloscope address\n",
    "    scope.timeout = 1000  # Set timeout to 10 seconds\n",
    "    print(f\"✅ Connected to: {scope.query('*IDN?')}\")\n",
    "except Exception as e:\n",
    "    print(f\"❌ Error connecting to oscilloscope: {e}\")\n",
    "    exit()\n"
   ]
  },
  {
   "cell_type": "code",
   "execution_count": 5,
   "metadata": {},
   "outputs": [
    {
     "ename": "VisaIOError",
     "evalue": "VI_ERROR_INP_PROT_VIOL (-1073807305): Device reported an input protocol error during transfer.",
     "output_type": "error",
     "traceback": [
      "\u001b[1;31m---------------------------------------------------------------------------\u001b[0m",
      "\u001b[1;31mVisaIOError\u001b[0m                               Traceback (most recent call last)",
      "Cell \u001b[1;32mIn[5], line 1\u001b[0m\n\u001b[1;32m----> 1\u001b[0m \u001b[43mscope\u001b[49m\u001b[38;5;241;43m.\u001b[39;49m\u001b[43mquery\u001b[49m\u001b[43m(\u001b[49m\u001b[38;5;124;43m'\u001b[39;49m\u001b[38;5;124;43m*IDN?\u001b[39;49m\u001b[38;5;124;43m'\u001b[39;49m\u001b[43m)\u001b[49m\n",
      "File \u001b[1;32mc:\\Users\\ayode\\Downloads\\Azure Data Engineer\\audio_dsp\\.venv\\Lib\\site-packages\\pyvisa\\resources\\messagebased.py:647\u001b[0m, in \u001b[0;36mMessageBasedResource.query\u001b[1;34m(self, message, delay)\u001b[0m\n\u001b[0;32m    644\u001b[0m \u001b[38;5;28;01mif\u001b[39;00m delay \u001b[38;5;241m>\u001b[39m \u001b[38;5;241m0.0\u001b[39m:\n\u001b[0;32m    645\u001b[0m     time\u001b[38;5;241m.\u001b[39msleep(delay)\n\u001b[1;32m--> 647\u001b[0m \u001b[38;5;28;01mreturn\u001b[39;00m \u001b[38;5;28;43mself\u001b[39;49m\u001b[38;5;241;43m.\u001b[39;49m\u001b[43mread\u001b[49m\u001b[43m(\u001b[49m\u001b[43m)\u001b[49m\n",
      "File \u001b[1;32mc:\\Users\\ayode\\Downloads\\Azure Data Engineer\\audio_dsp\\.venv\\Lib\\site-packages\\pyvisa\\resources\\messagebased.py:485\u001b[0m, in \u001b[0;36mMessageBasedResource.read\u001b[1;34m(self, termination, encoding)\u001b[0m\n\u001b[0;32m    483\u001b[0m \u001b[38;5;28;01mif\u001b[39;00m termination \u001b[38;5;129;01mis\u001b[39;00m \u001b[38;5;28;01mNone\u001b[39;00m:\n\u001b[0;32m    484\u001b[0m     termination \u001b[38;5;241m=\u001b[39m \u001b[38;5;28mself\u001b[39m\u001b[38;5;241m.\u001b[39m_read_termination\n\u001b[1;32m--> 485\u001b[0m     message \u001b[38;5;241m=\u001b[39m \u001b[38;5;28;43mself\u001b[39;49m\u001b[38;5;241;43m.\u001b[39;49m\u001b[43m_read_raw\u001b[49m\u001b[43m(\u001b[49m\u001b[43m)\u001b[49m\u001b[38;5;241m.\u001b[39mdecode(enco)\n\u001b[0;32m    486\u001b[0m \u001b[38;5;28;01melse\u001b[39;00m:\n\u001b[0;32m    487\u001b[0m     \u001b[38;5;28;01mwith\u001b[39;00m \u001b[38;5;28mself\u001b[39m\u001b[38;5;241m.\u001b[39mread_termination_context(termination):\n",
      "File \u001b[1;32mc:\\Users\\ayode\\Downloads\\Azure Data Engineer\\audio_dsp\\.venv\\Lib\\site-packages\\pyvisa\\resources\\messagebased.py:441\u001b[0m, in \u001b[0;36mMessageBasedResource._read_raw\u001b[1;34m(self, size)\u001b[0m\n\u001b[0;32m    434\u001b[0m     \u001b[38;5;28;01mwhile\u001b[39;00m status \u001b[38;5;241m==\u001b[39m loop_status:\n\u001b[0;32m    435\u001b[0m         logger\u001b[38;5;241m.\u001b[39mdebug(\n\u001b[0;32m    436\u001b[0m             \u001b[38;5;124m\"\u001b[39m\u001b[38;5;132;01m%s\u001b[39;00m\u001b[38;5;124m - reading \u001b[39m\u001b[38;5;132;01m%d\u001b[39;00m\u001b[38;5;124m bytes (last status \u001b[39m\u001b[38;5;132;01m%r\u001b[39;00m\u001b[38;5;124m)\u001b[39m\u001b[38;5;124m\"\u001b[39m,\n\u001b[0;32m    437\u001b[0m             \u001b[38;5;28mself\u001b[39m\u001b[38;5;241m.\u001b[39m_resource_name,\n\u001b[0;32m    438\u001b[0m             size,\n\u001b[0;32m    439\u001b[0m             status,\n\u001b[0;32m    440\u001b[0m         )\n\u001b[1;32m--> 441\u001b[0m         chunk, status \u001b[38;5;241m=\u001b[39m \u001b[38;5;28;43mself\u001b[39;49m\u001b[38;5;241;43m.\u001b[39;49m\u001b[43mvisalib\u001b[49m\u001b[38;5;241;43m.\u001b[39;49m\u001b[43mread\u001b[49m\u001b[43m(\u001b[49m\u001b[38;5;28;43mself\u001b[39;49m\u001b[38;5;241;43m.\u001b[39;49m\u001b[43msession\u001b[49m\u001b[43m,\u001b[49m\u001b[43m \u001b[49m\u001b[43msize\u001b[49m\u001b[43m)\u001b[49m\n\u001b[0;32m    442\u001b[0m         ret\u001b[38;5;241m.\u001b[39mextend(chunk)\n\u001b[0;32m    443\u001b[0m \u001b[38;5;28;01mexcept\u001b[39;00m errors\u001b[38;5;241m.\u001b[39mVisaIOError \u001b[38;5;28;01mas\u001b[39;00m e:\n",
      "File \u001b[1;32mc:\\Users\\ayode\\Downloads\\Azure Data Engineer\\audio_dsp\\.venv\\Lib\\site-packages\\pyvisa\\ctwrapper\\functions.py:2336\u001b[0m, in \u001b[0;36mread\u001b[1;34m(library, session, count)\u001b[0m\n\u001b[0;32m   2334\u001b[0m buffer \u001b[38;5;241m=\u001b[39m create_string_buffer(count)\n\u001b[0;32m   2335\u001b[0m return_count \u001b[38;5;241m=\u001b[39m ViUInt32()\n\u001b[1;32m-> 2336\u001b[0m ret \u001b[38;5;241m=\u001b[39m \u001b[43mlibrary\u001b[49m\u001b[38;5;241;43m.\u001b[39;49m\u001b[43mviRead\u001b[49m\u001b[43m(\u001b[49m\u001b[43msession\u001b[49m\u001b[43m,\u001b[49m\u001b[43m \u001b[49m\u001b[43mbuffer\u001b[49m\u001b[43m,\u001b[49m\u001b[43m \u001b[49m\u001b[43mcount\u001b[49m\u001b[43m,\u001b[49m\u001b[43m \u001b[49m\u001b[43mbyref\u001b[49m\u001b[43m(\u001b[49m\u001b[43mreturn_count\u001b[49m\u001b[43m)\u001b[49m\u001b[43m)\u001b[49m\n\u001b[0;32m   2337\u001b[0m \u001b[38;5;28;01mreturn\u001b[39;00m buffer\u001b[38;5;241m.\u001b[39mraw[: return_count\u001b[38;5;241m.\u001b[39mvalue], ret\n",
      "File \u001b[1;32mc:\\Users\\ayode\\Downloads\\Azure Data Engineer\\audio_dsp\\.venv\\Lib\\site-packages\\pyvisa\\ctwrapper\\highlevel.py:226\u001b[0m, in \u001b[0;36mIVIVisaLibrary._return_handler\u001b[1;34m(self, ret_value, func, arguments)\u001b[0m\n\u001b[0;32m    223\u001b[0m         \u001b[38;5;66;03m# Set session back to a safe value\u001b[39;00m\n\u001b[0;32m    224\u001b[0m         session \u001b[38;5;241m=\u001b[39m \u001b[38;5;28;01mNone\u001b[39;00m\n\u001b[1;32m--> 226\u001b[0m \u001b[38;5;28;01mreturn\u001b[39;00m \u001b[38;5;28;43mself\u001b[39;49m\u001b[38;5;241;43m.\u001b[39;49m\u001b[43mhandle_return_value\u001b[49m\u001b[43m(\u001b[49m\u001b[43msession\u001b[49m\u001b[43m,\u001b[49m\u001b[43m \u001b[49m\u001b[43mret_value\u001b[49m\u001b[43m)\u001b[49m\n",
      "File \u001b[1;32mc:\\Users\\ayode\\Downloads\\Azure Data Engineer\\audio_dsp\\.venv\\Lib\\site-packages\\pyvisa\\highlevel.py:251\u001b[0m, in \u001b[0;36mVisaLibraryBase.handle_return_value\u001b[1;34m(self, session, status_code)\u001b[0m\n\u001b[0;32m    248\u001b[0m     \u001b[38;5;28mself\u001b[39m\u001b[38;5;241m.\u001b[39m_last_status_in_session[session] \u001b[38;5;241m=\u001b[39m rv\n\u001b[0;32m    250\u001b[0m \u001b[38;5;28;01mif\u001b[39;00m rv \u001b[38;5;241m<\u001b[39m \u001b[38;5;241m0\u001b[39m:\n\u001b[1;32m--> 251\u001b[0m     \u001b[38;5;28;01mraise\u001b[39;00m errors\u001b[38;5;241m.\u001b[39mVisaIOError(rv)\n\u001b[0;32m    253\u001b[0m \u001b[38;5;28;01mif\u001b[39;00m rv \u001b[38;5;129;01min\u001b[39;00m \u001b[38;5;28mself\u001b[39m\u001b[38;5;241m.\u001b[39missue_warning_on:\n\u001b[0;32m    254\u001b[0m     \u001b[38;5;28;01mif\u001b[39;00m session \u001b[38;5;129;01mand\u001b[39;00m rv \u001b[38;5;129;01mnot\u001b[39;00m \u001b[38;5;129;01min\u001b[39;00m \u001b[38;5;28mself\u001b[39m\u001b[38;5;241m.\u001b[39m_ignore_warning_in_session[session]:\n",
      "\u001b[1;31mVisaIOError\u001b[0m: VI_ERROR_INP_PROT_VIOL (-1073807305): Device reported an input protocol error during transfer."
     ]
    }
   ],
   "source": [
    "scope.query('*IDN?')"
   ]
  },
  {
   "cell_type": "code",
   "execution_count": null,
   "metadata": {},
   "outputs": [],
   "source": [
    "scope.query(\"C1:PAVA? CRMS\")"
   ]
  },
  {
   "cell_type": "code",
   "execution_count": null,
   "metadata": {},
   "outputs": [],
   "source": []
  }
 ],
 "metadata": {
  "kernelspec": {
   "display_name": ".venv",
   "language": "python",
   "name": "python3"
  },
  "language_info": {
   "codemirror_mode": {
    "name": "ipython",
    "version": 3
   },
   "file_extension": ".py",
   "mimetype": "text/x-python",
   "name": "python",
   "nbconvert_exporter": "python",
   "pygments_lexer": "ipython3",
   "version": "3.12.6"
  }
 },
 "nbformat": 4,
 "nbformat_minor": 2
}

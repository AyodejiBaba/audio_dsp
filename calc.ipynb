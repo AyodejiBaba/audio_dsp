{
 "cells": [
  {
   "cell_type": "markdown",
   "metadata": {},
   "source": [
    "Here, I run fast calculations and use Python as a Calculator and for very fast iterative sequences and more"
   ]
  },
  {
   "cell_type": "code",
   "execution_count": null,
   "metadata": {},
   "outputs": [
    {
     "data": {
      "text/plain": [
       "60"
      ]
     },
     "execution_count": 6,
     "metadata": {},
     "output_type": "execute_result"
    }
   ],
   "source": [
    "# 2025-1989\n",
    "# 100 / 6\n",
    "# 142 + 149.57 + 57 + 96 + 53 # uk visa expenses\n",
    "# 3-17\n",
    "# 5*12"
   ]
  },
  {
   "cell_type": "code",
   "execution_count": 8,
   "metadata": {},
   "outputs": [
    {
     "data": {
      "text/plain": [
       "20.0"
      ]
     },
     "execution_count": 8,
     "metadata": {},
     "output_type": "execute_result"
    }
   ],
   "source": [
    "# Given values\n",
    "total_course_hours = 30  # Total course duration in hours\n",
    "daily_study_time = 1 + (30 / 60)  # Convert 1 hour 25 minutes to hours\n",
    "\n",
    "# Calculate total days required to complete the course\n",
    "total_days = total_course_hours / daily_study_time\n",
    "total_days\n"
   ]
  },
  {
   "cell_type": "code",
   "execution_count": 3,
   "metadata": {},
   "outputs": [
    {
     "name": "stdout",
     "output_type": "stream",
     "text": [
      "137.5 275.0\n"
     ]
    }
   ],
   "source": [
    "# calcs of our current dev payments for FEHT Health\n",
    "per_stakeholder = 550/4 # in naira\n",
    "TheDAAYS = per_stakeholder * 2\n",
    "\n",
    "print(per_stakeholder, TheDAAYS)"
   ]
  },
  {
   "cell_type": "code",
   "execution_count": 11,
   "metadata": {},
   "outputs": [
    {
     "data": {
      "text/plain": [
       "59.8"
      ]
     },
     "execution_count": 11,
     "metadata": {},
     "output_type": "execute_result"
    }
   ],
   "source": [
    "14.95*4"
   ]
  },
  {
   "cell_type": "code",
   "execution_count": 12,
   "metadata": {},
   "outputs": [
    {
     "data": {
      "text/plain": [
       "74.75"
      ]
     },
     "execution_count": 12,
     "metadata": {},
     "output_type": "execute_result"
    }
   ],
   "source": [
    "59.8+14.95"
   ]
  },
  {
   "cell_type": "code",
   "execution_count": 4,
   "metadata": {},
   "outputs": [
    {
     "data": {
      "text/plain": [
       "5.516666666666667"
      ]
     },
     "execution_count": 4,
     "metadata": {},
     "output_type": "execute_result"
    }
   ],
   "source": [
    "331/60"
   ]
  },
  {
   "cell_type": "code",
   "execution_count": 8,
   "metadata": {},
   "outputs": [
    {
     "data": {
      "text/plain": [
       "1008"
      ]
     },
     "execution_count": 8,
     "metadata": {},
     "output_type": "execute_result"
    }
   ],
   "source": [
    "168*6"
   ]
  },
  {
   "cell_type": "code",
   "execution_count": 1,
   "metadata": {},
   "outputs": [
    {
     "data": {
      "text/plain": [
       "480"
      ]
     },
     "execution_count": 1,
     "metadata": {},
     "output_type": "execute_result"
    }
   ],
   "source": [
    "40*12"
   ]
  },
  {
   "cell_type": "code",
   "execution_count": 127,
   "metadata": {},
   "outputs": [
    {
     "name": "stdout",
     "output_type": "stream",
     "text": [
      "Defaulting to user installation because normal site-packages is not writeable\n",
      "Requirement already satisfied: numpy in c:\\users\\ayode\\appdata\\local\\packages\\pythonsoftwarefoundation.python.3.12_qbz5n2kfra8p0\\localcache\\local-packages\\python312\\site-packages (2.1.1)\n",
      "Collecting sounddevice\n",
      "  Downloading sounddevice-0.5.0-py3-none-win_amd64.whl.metadata (1.4 kB)\n",
      "Collecting CFFI>=1.0 (from sounddevice)\n",
      "  Downloading cffi-1.17.1-cp312-cp312-win_amd64.whl.metadata (1.6 kB)\n",
      "Collecting pycparser (from CFFI>=1.0->sounddevice)\n",
      "  Downloading pycparser-2.22-py3-none-any.whl.metadata (943 bytes)\n",
      "Downloading sounddevice-0.5.0-py3-none-win_amd64.whl (189 kB)\n",
      "Downloading cffi-1.17.1-cp312-cp312-win_amd64.whl (181 kB)\n",
      "Downloading pycparser-2.22-py3-none-any.whl (117 kB)\n",
      "Installing collected packages: pycparser, CFFI, sounddevice\n",
      "Successfully installed CFFI-1.17.1 pycparser-2.22 sounddevice-0.5.0\n",
      "Note: you may need to restart the kernel to use updated packages.\n"
     ]
    }
   ],
   "source": [
    "pip install numpy sounddevice\n"
   ]
  },
  {
   "cell_type": "code",
   "execution_count": 128,
   "metadata": {},
   "outputs": [
    {
     "name": "stdout",
     "output_type": "stream",
     "text": [
      "Playing frequency: 50 Hz\n"
     ]
    },
    {
     "ename": "KeyboardInterrupt",
     "evalue": "",
     "output_type": "error",
     "traceback": [
      "\u001b[1;31m---------------------------------------------------------------------------\u001b[0m",
      "\u001b[1;31mKeyboardInterrupt\u001b[0m                         Traceback (most recent call last)",
      "Cell \u001b[1;32mIn[128], line 29\u001b[0m\n\u001b[0;32m     26\u001b[0m step_size \u001b[38;5;241m=\u001b[39m \u001b[38;5;241m10\u001b[39m\n\u001b[0;32m     27\u001b[0m interval_minutes \u001b[38;5;241m=\u001b[39m \u001b[38;5;241m1\u001b[39m\n\u001b[1;32m---> 29\u001b[0m \u001b[43mgenerate_frequencies\u001b[49m\u001b[43m(\u001b[49m\u001b[43mstart_frequency\u001b[49m\u001b[43m,\u001b[49m\u001b[43m \u001b[49m\u001b[43mend_frequency\u001b[49m\u001b[43m,\u001b[49m\u001b[43m \u001b[49m\u001b[43mstep_size\u001b[49m\u001b[43m,\u001b[49m\u001b[43m \u001b[49m\u001b[43minterval_minutes\u001b[49m\u001b[43m)\u001b[49m\n",
      "Cell \u001b[1;32mIn[128], line 20\u001b[0m, in \u001b[0;36mgenerate_frequencies\u001b[1;34m(start_freq, end_freq, step, interval)\u001b[0m\n\u001b[0;32m     18\u001b[0m tone \u001b[38;5;241m=\u001b[39m generate_sine_tone(current_freq, duration\u001b[38;5;241m=\u001b[39m\u001b[38;5;241m1\u001b[39m)  \u001b[38;5;66;03m# 1 second duration for each tone\u001b[39;00m\n\u001b[0;32m     19\u001b[0m play_tone(tone)\n\u001b[1;32m---> 20\u001b[0m \u001b[43mtime\u001b[49m\u001b[38;5;241;43m.\u001b[39;49m\u001b[43msleep\u001b[49m\u001b[43m(\u001b[49m\u001b[43minterval\u001b[49m\u001b[43m \u001b[49m\u001b[38;5;241;43m*\u001b[39;49m\u001b[43m \u001b[49m\u001b[38;5;241;43m60\u001b[39;49m\u001b[43m)\u001b[49m  \u001b[38;5;66;03m# Convert minutes to seconds\u001b[39;00m\n\u001b[0;32m     21\u001b[0m current_freq \u001b[38;5;241m+\u001b[39m\u001b[38;5;241m=\u001b[39m step\n",
      "\u001b[1;31mKeyboardInterrupt\u001b[0m: "
     ]
    }
   ],
   "source": [
    "import numpy as np\n",
    "import sounddevice as sd\n",
    "import time\n",
    "\n",
    "def generate_sine_tone(frequency, duration, sample_rate=44100):\n",
    "    t = np.linspace(0, duration, int(sample_rate * duration), endpoint=False)\n",
    "    tone = 0.5 * np.sin(2 * np.pi * frequency * t)\n",
    "    return tone\n",
    "\n",
    "def play_tone(tone, sample_rate=44100):\n",
    "    sd.play(tone, samplerate=sample_rate)\n",
    "    sd.wait()\n",
    "\n",
    "def generate_frequencies(start_freq, end_freq, step, interval):\n",
    "    current_freq = start_freq\n",
    "    while current_freq <= end_freq:\n",
    "        print(f\"Playing frequency: {current_freq} Hz\")\n",
    "        tone = generate_sine_tone(current_freq, duration=1)  # 1 second duration for each tone\n",
    "        play_tone(tone)\n",
    "        time.sleep(interval * 60)  # Convert minutes to seconds\n",
    "        current_freq += step\n",
    "\n",
    "# Set the start frequency, end frequency, step size, and interval in minutes\n",
    "start_frequency = 50\n",
    "end_frequency = 1000\n",
    "step_size = 10\n",
    "interval_minutes = 1\n",
    "\n",
    "generate_frequencies(start_frequency, end_frequency, step_size, interval_minutes)\n"
   ]
  },
  {
   "cell_type": "code",
   "execution_count": 130,
   "metadata": {},
   "outputs": [
    {
     "name": "stdout",
     "output_type": "stream",
     "text": [
      "Defaulting to user installation because normal site-packages is not writeable\n",
      "Requirement already satisfied: numpy in c:\\users\\ayode\\appdata\\local\\packages\\pythonsoftwarefoundation.python.3.12_qbz5n2kfra8p0\\localcache\\local-packages\\python312\\site-packages (2.1.1)\n",
      "Collecting scipy\n",
      "  Downloading scipy-1.14.1-cp312-cp312-win_amd64.whl.metadata (60 kB)\n",
      "Downloading scipy-1.14.1-cp312-cp312-win_amd64.whl (44.5 MB)\n",
      "   ---------------------------------------- 0.0/44.5 MB ? eta -:--:--\n",
      "    --------------------------------------- 0.8/44.5 MB 4.8 MB/s eta 0:00:10\n",
      "   - -------------------------------------- 2.1/44.5 MB 5.6 MB/s eta 0:00:08\n",
      "   --- ------------------------------------ 3.9/44.5 MB 6.7 MB/s eta 0:00:07\n",
      "   ----- ---------------------------------- 5.8/44.5 MB 7.2 MB/s eta 0:00:06\n",
      "   ------ --------------------------------- 7.6/44.5 MB 7.6 MB/s eta 0:00:05\n",
      "   -------- ------------------------------- 9.4/44.5 MB 7.8 MB/s eta 0:00:05\n",
      "   --------- ------------------------------ 10.5/44.5 MB 7.4 MB/s eta 0:00:05\n",
      "   ---------- ----------------------------- 12.1/44.5 MB 7.4 MB/s eta 0:00:05\n",
      "   ------------ --------------------------- 13.6/44.5 MB 7.5 MB/s eta 0:00:05\n",
      "   ------------- -------------------------- 14.9/44.5 MB 7.5 MB/s eta 0:00:04\n",
      "   -------------- ------------------------- 15.7/44.5 MB 7.2 MB/s eta 0:00:05\n",
      "   -------------- ------------------------- 16.3/44.5 MB 6.7 MB/s eta 0:00:05\n",
      "   --------------- ------------------------ 17.3/44.5 MB 6.5 MB/s eta 0:00:05\n",
      "   ----------------- ---------------------- 19.1/44.5 MB 6.7 MB/s eta 0:00:04\n",
      "   ------------------ --------------------- 21.0/44.5 MB 6.8 MB/s eta 0:00:04\n",
      "   -------------------- ------------------- 22.3/44.5 MB 6.9 MB/s eta 0:00:04\n",
      "   --------------------- ------------------ 23.9/44.5 MB 6.8 MB/s eta 0:00:04\n",
      "   ----------------------- ---------------- 25.7/44.5 MB 7.0 MB/s eta 0:00:03\n",
      "   ----------------------- ---------------- 26.0/44.5 MB 6.9 MB/s eta 0:00:03\n",
      "   ------------------------ --------------- 27.3/44.5 MB 6.6 MB/s eta 0:00:03\n",
      "   ------------------------- -------------- 28.3/44.5 MB 6.6 MB/s eta 0:00:03\n",
      "   -------------------------- ------------- 29.4/44.5 MB 6.6 MB/s eta 0:00:03\n",
      "   -------------------------- ------------- 29.6/44.5 MB 6.5 MB/s eta 0:00:03\n",
      "   -------------------------- ------------- 29.6/44.5 MB 6.5 MB/s eta 0:00:03\n",
      "   ---------------------------- ----------- 31.7/44.5 MB 6.2 MB/s eta 0:00:03\n",
      "   ----------------------------- ---------- 33.0/44.5 MB 6.2 MB/s eta 0:00:02\n",
      "   ------------------------------ --------- 34.3/44.5 MB 6.2 MB/s eta 0:00:02\n",
      "   -------------------------------- ------- 35.7/44.5 MB 6.2 MB/s eta 0:00:02\n",
      "   --------------------------------- ------ 37.5/44.5 MB 6.2 MB/s eta 0:00:02\n",
      "   ----------------------------------- ---- 39.3/44.5 MB 6.3 MB/s eta 0:00:01\n",
      "   ------------------------------------ --- 41.2/44.5 MB 6.4 MB/s eta 0:00:01\n",
      "   -------------------------------------- - 42.7/44.5 MB 6.5 MB/s eta 0:00:01\n",
      "   ---------------------------------------  44.3/44.5 MB 6.5 MB/s eta 0:00:01\n",
      "   ---------------------------------------- 44.5/44.5 MB 6.5 MB/s eta 0:00:00\n",
      "Installing collected packages: scipy\n",
      "Successfully installed scipy-1.14.1\n",
      "Note: you may need to restart the kernel to use updated packages.\n"
     ]
    }
   ],
   "source": [
    "pip install numpy scipy\n"
   ]
  },
  {
   "cell_type": "code",
   "execution_count": 116,
   "metadata": {},
   "outputs": [
    {
     "name": "stdout",
     "output_type": "stream",
     "text": [
      "the power of sound per square meter: 0.00158 W\n"
     ]
    }
   ],
   "source": [
    "# sound + vibration energy r&d\n",
    "\n",
    "import math\n",
    "i = 1e2                                  # jet engine sound intensity level; jet engine spl - 140 dB\n",
    "io = 1e-12\n",
    "spl = 10 * math.log10(i/io)\n",
    "\n",
    "# print(f'sound presure level: {spl} dB')\n",
    "\n",
    "# say we dont know the power or sound intensity of jet engine, and we \n",
    "# want to so we can know how much power it generates\n",
    "# then we need to invert the equation\n",
    "\n",
    "spl = 92\n",
    "i = 10**(spl/10) * io\n",
    "\n",
    "print(f'the power of sound per square meter: {i:.5f} W')\n"
   ]
  },
  {
   "cell_type": "code",
   "execution_count": null,
   "metadata": {},
   "outputs": [
    {
     "data": {
      "text/plain": [
       "1.764"
      ]
     },
     "execution_count": 2,
     "metadata": {},
     "output_type": "execute_result"
    }
   ],
   "source": [
    "42"
   ]
  },
  {
   "cell_type": "code",
   "execution_count": 1,
   "metadata": {},
   "outputs": [
    {
     "name": "stdout",
     "output_type": "stream",
     "text": [
      "Generating and saving frequency: 50 Hz\n",
      "Generating and saving frequency: 60 Hz\n",
      "Generating and saving frequency: 70 Hz\n",
      "Generating and saving frequency: 80 Hz\n",
      "Generating and saving frequency: 90 Hz\n",
      "Generating and saving frequency: 100 Hz\n",
      "Generating and saving frequency: 110 Hz\n",
      "Generating and saving frequency: 120 Hz\n",
      "Generating and saving frequency: 130 Hz\n",
      "Generating and saving frequency: 140 Hz\n",
      "Generating and saving frequency: 150 Hz\n",
      "Generating and saving frequency: 160 Hz\n",
      "Generating and saving frequency: 170 Hz\n",
      "Generating and saving frequency: 180 Hz\n",
      "Generating and saving frequency: 190 Hz\n",
      "Generating and saving frequency: 200 Hz\n",
      "Generating and saving frequency: 210 Hz\n",
      "Generating and saving frequency: 220 Hz\n",
      "Generating and saving frequency: 230 Hz\n",
      "Generating and saving frequency: 240 Hz\n",
      "Generating and saving frequency: 250 Hz\n",
      "Generating and saving frequency: 260 Hz\n",
      "Generating and saving frequency: 270 Hz\n",
      "Generating and saving frequency: 280 Hz\n",
      "Generating and saving frequency: 290 Hz\n",
      "Generating and saving frequency: 300 Hz\n",
      "Generating and saving frequency: 310 Hz\n",
      "Generating and saving frequency: 320 Hz\n",
      "Generating and saving frequency: 330 Hz\n",
      "Generating and saving frequency: 340 Hz\n",
      "Generating and saving frequency: 350 Hz\n",
      "Generating and saving frequency: 360 Hz\n",
      "Generating and saving frequency: 370 Hz\n",
      "Generating and saving frequency: 380 Hz\n",
      "Generating and saving frequency: 390 Hz\n",
      "Generating and saving frequency: 400 Hz\n",
      "Generating and saving frequency: 410 Hz\n",
      "Generating and saving frequency: 420 Hz\n",
      "Generating and saving frequency: 430 Hz\n",
      "Generating and saving frequency: 440 Hz\n",
      "Generating and saving frequency: 450 Hz\n",
      "Generating and saving frequency: 460 Hz\n",
      "Generating and saving frequency: 470 Hz\n",
      "Generating and saving frequency: 480 Hz\n",
      "Generating and saving frequency: 490 Hz\n",
      "Generating and saving frequency: 500 Hz\n",
      "Generating and saving frequency: 510 Hz\n",
      "Generating and saving frequency: 520 Hz\n",
      "Generating and saving frequency: 530 Hz\n",
      "Generating and saving frequency: 540 Hz\n",
      "Generating and saving frequency: 550 Hz\n",
      "Generating and saving frequency: 560 Hz\n",
      "Generating and saving frequency: 570 Hz\n",
      "Generating and saving frequency: 580 Hz\n",
      "Generating and saving frequency: 590 Hz\n",
      "Generating and saving frequency: 600 Hz\n",
      "Generating and saving frequency: 610 Hz\n",
      "Generating and saving frequency: 620 Hz\n",
      "Generating and saving frequency: 630 Hz\n",
      "Generating and saving frequency: 640 Hz\n",
      "Generating and saving frequency: 650 Hz\n",
      "Generating and saving frequency: 660 Hz\n",
      "Generating and saving frequency: 670 Hz\n",
      "Generating and saving frequency: 680 Hz\n",
      "Generating and saving frequency: 690 Hz\n",
      "Generating and saving frequency: 700 Hz\n",
      "Generating and saving frequency: 710 Hz\n",
      "Generating and saving frequency: 720 Hz\n",
      "Generating and saving frequency: 730 Hz\n",
      "Generating and saving frequency: 740 Hz\n",
      "Generating and saving frequency: 750 Hz\n",
      "Generating and saving frequency: 760 Hz\n",
      "Generating and saving frequency: 770 Hz\n",
      "Generating and saving frequency: 780 Hz\n",
      "Generating and saving frequency: 790 Hz\n",
      "Generating and saving frequency: 800 Hz\n",
      "Generating and saving frequency: 810 Hz\n",
      "Generating and saving frequency: 820 Hz\n",
      "Generating and saving frequency: 830 Hz\n",
      "Generating and saving frequency: 840 Hz\n",
      "Generating and saving frequency: 850 Hz\n",
      "Generating and saving frequency: 860 Hz\n",
      "Generating and saving frequency: 870 Hz\n",
      "Generating and saving frequency: 880 Hz\n",
      "Generating and saving frequency: 890 Hz\n",
      "Generating and saving frequency: 900 Hz\n",
      "Generating and saving frequency: 910 Hz\n",
      "Generating and saving frequency: 920 Hz\n",
      "Generating and saving frequency: 930 Hz\n",
      "Generating and saving frequency: 940 Hz\n",
      "Generating and saving frequency: 950 Hz\n",
      "Generating and saving frequency: 960 Hz\n",
      "Generating and saving frequency: 970 Hz\n",
      "Generating and saving frequency: 980 Hz\n",
      "Generating and saving frequency: 990 Hz\n",
      "Generating and saving frequency: 1000 Hz\n"
     ]
    }
   ],
   "source": [
    "import numpy as np\n",
    "from scipy.io.wavfile import write\n",
    "import time\n",
    "\n",
    "def generate_sine_tone(frequency, duration, sample_rate=44100):\n",
    "    t = np.linspace(0, duration, int(sample_rate * duration), endpoint=False)\n",
    "    tone = 0.5 * np.sin(2 * np.pi * frequency * t)\n",
    "    return tone\n",
    "\n",
    "def save_tone_as_wav(tone, sample_rate, filename):\n",
    "    write(filename, sample_rate, tone.astype(np.float32))\n",
    "\n",
    "def generate_frequencies(start_freq, end_freq, step, interval):\n",
    "    current_freq = start_freq\n",
    "    while current_freq <= end_freq:\n",
    "        print(f\"Generating and saving frequency: {current_freq} Hz\")\n",
    "        tone = generate_sine_tone(current_freq, duration=5)  # 1 second duration for each tone\n",
    "        filename = f\"tone_{current_freq}Hz.wav\"\n",
    "        save_tone_as_wav(tone, 44100, filename)\n",
    "        time.sleep(interval * 60)  # Convert minutes to seconds\n",
    "        current_freq += step\n",
    "\n",
    "# Set the start frequency, end frequency, step size, and interval in minutes\n",
    "start_frequency = 50\n",
    "end_frequency = 1000\n",
    "step_size = 10\n",
    "interval_minutes = 0.001\n",
    "\n",
    "generate_frequencies(start_frequency, end_frequency, step_size, interval_minutes)\n"
   ]
  },
  {
   "cell_type": "code",
   "execution_count": 43,
   "metadata": {},
   "outputs": [
    {
     "name": "stdout",
     "output_type": "stream",
     "text": [
      "For a voltage of 3.04, and a load resistance of 1,\n",
      "Output Power in Watts is: 9.2416\n"
     ]
    }
   ],
   "source": [
    "v = 3.04                 # voltage in Volts - V\n",
    "r = 1                # load resistance in Ohms - using 1kOhm\n",
    "output_Power = v**2 / r\n",
    "\n",
    "print(f'For a voltage of {v}, and a load resistance of {r},\\nOutput Power in Watts is: {output_Power}')"
   ]
  },
  {
   "cell_type": "code",
   "execution_count": 4,
   "metadata": {},
   "outputs": [
    {
     "data": {
      "text/plain": [
       "60"
      ]
     },
     "execution_count": 4,
     "metadata": {},
     "output_type": "execute_result"
    }
   ],
   "source": [
    "140-80"
   ]
  },
  {
   "cell_type": "code",
   "execution_count": 126,
   "metadata": {},
   "outputs": [
    {
     "name": "stdout",
     "output_type": "stream",
     "text": [
      "Output power from vibration: 192.08 W\n"
     ]
    }
   ],
   "source": [
    "# Vibration Energy Harvesting - 1\n",
    "k = 0.2 \t    # proportionality constant  (includes system characteristics and efficiency)\n",
    "freq = 5000      # frequency of vibration\n",
    "acc = 0.98     # m/s**2: acceleration\n",
    "load_r = 1   # Electrical impedance or resistance of the load\n",
    "p_vibration = ((k**2) *  freq * (acc**2)) / load_r\n",
    "\n",
    "print(f'Output power from vibration: {p_vibration} W')\n",
    "\n",
    "#  the higher the frequency, the better as well as the higher the vibration/acceleration"
   ]
  },
  {
   "cell_type": "code",
   "execution_count": null,
   "metadata": {},
   "outputs": [],
   "source": []
  },
  {
   "cell_type": "code",
   "execution_count": 6,
   "metadata": {},
   "outputs": [
    {
     "name": "stdout",
     "output_type": "stream",
     "text": [
      "For a Vibration Energy Harvesting Device with \n",
      "Effective Mass: 7 \n",
      "Acceleration: 9.8 m/s2 \n",
      "Efficiency 0.2 \n",
      "Output Power is: 67.22800000000002 W\n"
     ]
    }
   ],
   "source": [
    "# Vibration Energy Harvesting - 2\n",
    "\n",
    "m = 7       # effective mass in kg because Power is kg*m2/s2\n",
    "a = 9.8      # acceleration in m/s2. 1g == 9.8m/s2\n",
    "n = 0.2     # efficiency\n",
    "\n",
    "output_Power = 0.5 * m * n * (a**2)\n",
    "\n",
    "print(f'For a Vibration Energy Harvesting Device with \\nEffective Mass: {m} \\nAcceleration: {a} m/s2 \\nEfficiency {n} \\nOutput Power is: {output_Power} W')"
   ]
  },
  {
   "cell_type": "code",
   "execution_count": 16,
   "metadata": {},
   "outputs": [
    {
     "data": {
      "text/plain": [
       "1920.8000000000002"
      ]
     },
     "execution_count": 16,
     "metadata": {},
     "output_type": "execute_result"
    }
   ],
   "source": [
    "9604*0.2"
   ]
  },
  {
   "cell_type": "code",
   "execution_count": 7,
   "metadata": {},
   "outputs": [
    {
     "data": {
      "text/plain": [
       "90"
      ]
     },
     "execution_count": 7,
     "metadata": {},
     "output_type": "execute_result"
    }
   ],
   "source": [
    "6*15"
   ]
  },
  {
   "cell_type": "code",
   "execution_count": 7,
   "metadata": {},
   "outputs": [
    {
     "data": {
      "text/plain": [
       "98.0"
      ]
     },
     "execution_count": 7,
     "metadata": {},
     "output_type": "execute_result"
    }
   ],
   "source": [
    "# Vibration Energy Harvesting - 3\n",
    "# 1 g = 9.8 m/s2\n",
    "acc_1_g = 9.8\n",
    "x_mpersec2 = 0.05\n",
    "x_mpersec2_to_g = x_mpersec2/acc_1_g\n",
    "\n",
    "# 10*9.8\n",
    "# print(f'x_g in acceleration_new: {x_mpersec2_to_g} g')\n",
    "\n"
   ]
  },
  {
   "cell_type": "code",
   "execution_count": null,
   "metadata": {},
   "outputs": [],
   "source": [
    "# Vibration and Sound Energy Harvesting - 1\n"
   ]
  },
  {
   "cell_type": "code",
   "execution_count": 3,
   "metadata": {},
   "outputs": [
    {
     "name": "stdout",
     "output_type": "stream",
     "text": [
      "The date 30 days after 2024-09-18 is: 2024-10-18\n"
     ]
    }
   ],
   "source": [
    "# 800 * 10\n",
    "# 75000 / 260\n",
    "# 65000 / 260\n",
    "# 17+9+10+12+4+19+13+23+23+20+15+34+9+19+15+17+16+8+29+17+14+25+32+40+6+48+27+49+21+32\n",
    "# 623/60\n",
    "# 4.7-200\n",
    "# 5.28 (usable constant electric voltage)-1.82 (after usig 1.3k on resistors and 2.2 on LED load\n",
    "# 5.28-1.82\n",
    "# 47.33*3\n",
    "from datetime import datetime, timedelta\n",
    "\n",
    "# Function to calculate the date after n days\n",
    "def calculate_future_date(start_date, n_days):\n",
    "    # Convert the start_date string to a datetime object\n",
    "    start_date = datetime.strptime(start_date, \"%Y-%m-%d\")\n",
    "    \n",
    "    # Add n days using timedelta\n",
    "    future_date = start_date + timedelta(days=n_days)\n",
    "    \n",
    "    # Return the future date as a string\n",
    "    return future_date.strftime(\"%Y-%m-%d\")\n",
    "\n",
    "# Example usage:\n",
    "start_date = \"2024-09-18\"  # Specify the start date (format: YYYY-MM-DD)\n",
    "n_days = 30  # Number of days to add\n",
    "\n",
    "# Calculate the date n days after the start date\n",
    "result = calculate_future_date(start_date, n_days)\n",
    "print(\"The date\", n_days, \"days after\", start_date, \"is:\", result)\n"
   ]
  },
  {
   "cell_type": "code",
   "execution_count": 13,
   "metadata": {},
   "outputs": [
    {
     "name": "stdout",
     "output_type": "stream",
     "text": [
      "V_rms: 250 V \n",
      "Power_DC: 62.5 W\n"
     ]
    }
   ],
   "source": [
    "# 4/14\n",
    "# 2.5-0.3\n",
    "# 2.2 *10\n",
    "# 100/9\n",
    "# 12.5*2\n",
    "# 200*5\n",
    "# 1000*1e-6\n",
    "import math\n",
    "\n",
    "# v_max = 40\n",
    "# v_rms = v_max / (math.sqrt(2))\n",
    "v_rms = 250\n",
    "\n",
    "r = 1000                        # r - resistor in Ohms\n",
    "power_dc = v_rms**2 / r\n",
    "\n",
    "print(f'V_rms: {v_rms} V \\nPower_DC: {power_dc} W')\n",
    "# print(f'V_rms: {v_rms} V')"
   ]
  },
  {
   "cell_type": "code",
   "execution_count": 11,
   "metadata": {},
   "outputs": [
    {
     "data": {
      "text/plain": [
       "2.94"
      ]
     },
     "execution_count": 11,
     "metadata": {},
     "output_type": "execute_result"
    }
   ],
   "source": [
    "5.88/2"
   ]
  },
  {
   "cell_type": "code",
   "execution_count": null,
   "metadata": {},
   "outputs": [],
   "source": []
  },
  {
   "cell_type": "code",
   "execution_count": 15,
   "metadata": {},
   "outputs": [
    {
     "data": {
      "image/png": "[encoded data removed]",
      "text/plain": [
       "<Figure size 800x600 with 1 Axes>"
      ]
     },
     "metadata": {},
     "output_type": "display_data"
    },
    {
     "ename": "",
     "evalue": "",
     "output_type": "error",
     "traceback": [
      "\u001b[1;31mThe Kernel crashed while executing code in the current cell or a previous cell. \n",
      "\u001b[1;31mPlease review the code in the cell(s) to identify a possible cause of the failure. \n",
      "\u001b[1;31mClick <a href='https://aka.ms/vscodeJupyterKernelCrash'>here</a> for more info. \n",
      "\u001b[1;31mView Jupyter <a href='command:jupyter.viewOutput'>log</a> for further details."
     ]
    }
   ],
   "source": [
    "import numpy as np\n",
    "import matplotlib.pyplot as plt\n",
    "\n",
    "# Generate data for plotting\n",
    "frequencies = np.logspace(0, 4, 500)  # Frequencies from 10^0 to 10^4 Hz\n",
    "amplitude = np.sin(np.log(frequencies))  # Example data\n",
    "\n",
    "# Create the plot\n",
    "plt.figure(figsize=(8, 6))\n",
    "plt.plot(frequencies, amplitude)\n",
    "plt.xscale('log')  # Set x-axis to log scale\n",
    "plt.xlabel('Frequency (Hz)')\n",
    "plt.ylabel('Amplitude (arbitrary units)')\n",
    "plt.title('Logarithmic Frequency Plot')\n",
    "plt.grid(True, which=\"both\", ls=\"--\")\n",
    "\n",
    "# Display the plot\n",
    "plt.show()\n"
   ]
  },
  {
   "cell_type": "code",
   "execution_count": 1,
   "metadata": {},
   "outputs": [
    {
     "data": {
      "text/plain": [
       "23"
      ]
     },
     "execution_count": 1,
     "metadata": {},
     "output_type": "execute_result"
    }
   ],
   "source": [
    "# 44100/4096\n",
    "# 2024-1989"
   ]
  },
  {
   "cell_type": "code",
   "execution_count": 20,
   "metadata": {},
   "outputs": [
    {
     "data": {
      "text/plain": [
       "282.92256071356474"
      ]
     },
     "execution_count": 20,
     "metadata": {},
     "output_type": "execute_result"
    }
   ],
   "source": [
    "import math\n",
    "# 20 * (math.log10(140/10e-13))\n",
    "# 20 = 10 * math.log10(x)\n",
    "# 20 / 10 = math.log10(x)\n",
    "# 2 = math.log10(x)\n",
    "# 10**2 = x\n",
    "# 100\n",
    "# 0.004*100\n",
    "# 400mW\n"
   ]
  },
  {
   "cell_type": "code",
   "execution_count": 18,
   "metadata": {},
   "outputs": [
    {
     "data": {
      "text/plain": [
       "1e-11"
      ]
     },
     "execution_count": 18,
     "metadata": {},
     "output_type": "execute_result"
    }
   ],
   "source": [
    "10e-12"
   ]
  },
  {
   "cell_type": "code",
   "execution_count": 3,
   "metadata": {},
   "outputs": [
    {
     "data": {
      "text/plain": [
       "0.009466837121212119"
      ]
     },
     "execution_count": 3,
     "metadata": {},
     "output_type": "execute_result"
    }
   ],
   "source": [
    "# ((3.28*0.707)**2)/1320      # i think 3.28V was measured after the load 1.3k resistor was placed in the circuit plus the LEDs.\n",
    "((5*0.707)**2)/1320           # this would have been measured as the open-circuit voltage\n",
    "# Power = output voltage measured **2 / input resistor "
   ]
  },
  {
   "cell_type": "code",
   "execution_count": 1,
   "metadata": {},
   "outputs": [
    {
     "data": {
      "text/plain": [
       "50.0"
      ]
     },
     "execution_count": 1,
     "metadata": {},
     "output_type": "execute_result"
    }
   ],
   "source": [
    "1/0.02"
   ]
  },
  {
   "cell_type": "code",
   "execution_count": 6,
   "metadata": {},
   "outputs": [
    {
     "data": {
      "text/plain": [
       "1.3458251953125"
      ]
     },
     "execution_count": 6,
     "metadata": {},
     "output_type": "execute_result"
    }
   ],
   "source": [
    "44100 / 32768 # fft size,  Hanning (Hann) window, log frequency analysis, Generate a signal on a linear scale but evaluate it in log scale - especially for a signal with lots of quantities."
   ]
  },
  {
   "cell_type": "code",
   "execution_count": 19,
   "metadata": {},
   "outputs": [
    {
     "data": {
      "text/plain": [
       "34.99"
      ]
     },
     "execution_count": 19,
     "metadata": {},
     "output_type": "execute_result"
    }
   ],
   "source": [
    "# scented candles\n",
    "cost_of_production = 1+2+0.4+4.5+0.1+0.1+0.1+1.6+0.04+1.9+2.8+10\n",
    "# cost_of_production\n",
    "selling_price = 34.99\n",
    "# selling_price\n",
    "\n",
    "profit_margin = selling_price - cost_of_production\n",
    "print(f'Profit: {profit_margin}')"
   ]
  },
  {
   "cell_type": "code",
   "execution_count": 2,
   "metadata": {},
   "outputs": [
    {
     "data": {
      "text/plain": [
       "13"
      ]
     },
     "execution_count": 2,
     "metadata": {},
     "output_type": "execute_result"
    }
   ],
   "source": [
    "wifey = 'oluwadamilola'\n",
    "len(wifey)"
   ]
  },
  {
   "cell_type": "code",
   "execution_count": 7,
   "metadata": {},
   "outputs": [
    {
     "name": "stdout",
     "output_type": "stream",
     "text": [
      "60\n",
      "120\n",
      "240\n",
      "480\n",
      "960\n",
      "1920\n",
      "3840\n"
     ]
    }
   ],
   "source": [
    "i = 30\n",
    "while i < 2000:\n",
    "    print(i*2)\n",
    "    i*=2"
   ]
  },
  {
   "cell_type": "code",
   "execution_count": 7,
   "metadata": {},
   "outputs": [
    {
     "data": {
      "text/plain": [
       "2.25"
      ]
     },
     "execution_count": 7,
     "metadata": {},
     "output_type": "execute_result"
    }
   ],
   "source": [
    "# 1500/1000\n",
    "# 9*15\n",
    "135/60"
   ]
  },
  {
   "cell_type": "code",
   "execution_count": null,
   "metadata": {},
   "outputs": [],
   "source": []
  }
 ],
 "metadata": {
  "kernelspec": {
   "display_name": ".venv",
   "language": "python",
   "name": "python3"
  },
  "language_info": {
   "codemirror_mode": {
    "name": "ipython",
    "version": 3
   },
   "file_extension": ".py",
   "mimetype": "text/x-python",
   "name": "python",
   "nbconvert_exporter": "python",
   "pygments_lexer": "ipython3",
   "version": "3.12.6"
  }
 },
 "nbformat": 4,
 "nbformat_minor": 2
}

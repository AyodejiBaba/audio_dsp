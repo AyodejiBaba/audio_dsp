{
 "cells": [
  {
   "cell_type": "code",
   "execution_count": 1,
   "metadata": {},
   "outputs": [
    {
     "name": "stdout",
     "output_type": "stream",
     "text": [
      "Requirement already satisfied: pyvisa in c:\\users\\ayode\\downloads\\azure data engineer\\audio_dsp\\.venv\\lib\\site-packages (1.14.1)Note: you may need to restart the kernel to use updated packages.\n",
      "\n",
      "Requirement already satisfied: typing-extensions in c:\\users\\ayode\\downloads\\azure data engineer\\audio_dsp\\.venv\\lib\\site-packages (from pyvisa) (4.12.2)\n"
     ]
    }
   ],
   "source": [
    "pip install pyvisa\n"
   ]
  },
  {
   "cell_type": "code",
   "execution_count": null,
   "metadata": {},
   "outputs": [
    {
     "name": "stdout",
     "output_type": "stream",
     "text": [
      "✅ Working directory set to: c:\\Users\\ayode\\Downloads\\Azure Data Engineer\\audio_dsp\\lvenergy-results\n",
      "🔍 Available VISA devices: ('USB0::0xF4EC::0xEE38::SDSMMFCD6R2214::INSTR', 'ASRL3::INSTR', 'ASRL4::INSTR', 'ASRL5::INSTR')\n",
      "❌ Error connecting to oscilloscope: VI_ERROR_INP_PROT_VIOL (-1073807305): Device reported an input protocol error during transfer.\n",
      "📊 Starting measurements...\n",
      "⚠️ Error retrieving PKPK: VI_ERROR_INP_PROT_VIOL (-1073807305): Device reported an input protocol error during transfer.\n",
      "⚠️ Error retrieving RMS: VI_ERROR_INP_PROT_VIOL (-1073807305): Device reported an input protocol error during transfer.\n",
      "⚠️ Error retrieving FREQ: VI_ERROR_TMO (-1073807339): Timeout expired before operation completed.\n",
      "💾 Data saved: ['1742310451.107', 'ERROR', 'ERROR', 'ERROR']\n",
      "\n",
      "⚠️ Error retrieving PKPK: VI_ERROR_INP_PROT_VIOL (-1073807305): Device reported an input protocol error during transfer.\n",
      "⚠️ Error retrieving RMS: VI_ERROR_INP_PROT_VIOL (-1073807305): Device reported an input protocol error during transfer.\n",
      "⚠️ Error retrieving FREQ: VI_ERROR_TMO (-1073807339): Timeout expired before operation completed.\n",
      "💾 Data saved: ['1742310452.177', 'ERROR', 'ERROR', 'ERROR']\n",
      "\n",
      "⚠️ Error retrieving PKPK: VI_ERROR_INP_PROT_VIOL (-1073807305): Device reported an input protocol error during transfer.\n",
      "⚠️ Error retrieving RMS: VI_ERROR_INP_PROT_VIOL (-1073807305): Device reported an input protocol error during transfer.\n",
      "⚠️ Error retrieving FREQ: VI_ERROR_TMO (-1073807339): Timeout expired before operation completed.\n",
      "💾 Data saved: ['1742310453.248', 'ERROR', 'ERROR', 'ERROR']\n",
      "\n",
      "✅ Measurement completed. Data saved in: measurement_results_2025-03-18_16-07-31.csv\n",
      "⏱️ Execution time: 1.07 seconds\n"
     ]
    },
    {
     "ename": "",
     "evalue": "",
     "output_type": "error",
     "traceback": [
      "\u001b[1;31mThe Kernel crashed while executing code in the current cell or a previous cell. \n",
      "\u001b[1;31mPlease review the code in the cell(s) to identify a possible cause of the failure. \n",
      "\u001b[1;31mClick <a href='https://aka.ms/vscodeJupyterKernelCrash'>here</a> for more info. \n",
      "\u001b[1;31mView Jupyter <a href='command:jupyter.viewOutput'>log</a> for further details."
     ]
    }
   ],
   "source": [
    "import os\n",
    "import pyvisa\n",
    "import csv\n",
    "import time\n",
    "from datetime import datetime\n",
    "\n",
    "# Set working directory\n",
    "desired_directory = r\"c:\\Users\\ayode\\Downloads\\Azure Data Engineer\\audio_dsp\\lvenergy-results\"  # Update your path\n",
    "os.makedirs(desired_directory, exist_ok=True)  # Ensure directory exists\n",
    "os.chdir(desired_directory)\n",
    "\n",
    "print(f\"✅ Working directory set to: {os.getcwd()}\")\n",
    "\n",
    "# Initialize VISA connection\n",
    "rm = pyvisa.ResourceManager()\n",
    "devices = rm.list_resources()\n",
    "print(\"🔍 Available VISA devices:\", devices)\n",
    "\n",
    "try:\n",
    "    scope = rm.open_resource(\"USB0::0xF4EC::0xEE38::SDSMMFCD6R2214::INSTR\")  # Update your oscilloscope address\n",
    "    scope.timeout = 10  # Set timeout to 10 seconds\n",
    "    print(f\"✅ Connected to: {scope.query('*IDN?')}\")\n",
    "except Exception as e:\n",
    "    print(f\"❌ Error connecting to oscilloscope: {e}\")\n",
    "    exit()\n",
    "\n",
    "# Clear scope if necessary\n",
    "# scope.clear()\n",
    "\n",
    "# Define measurement queries\n",
    "measurements = {\n",
    "    \"PKPK\": \"C1:PAVA? PKPK\",\n",
    "    \"RMS\": \"C1:PAVA? CRMS\",\n",
    "    \"FREQ\": \"C1:PAVA? FREQ\"\n",
    "}\n",
    "\n",
    "# Create a timestamped CSV filename\n",
    "timestamp = datetime.now().strftime(\"%Y-%m-%d_%H-%M-%S\")\n",
    "csv_filename = f\"measurement_results_{timestamp}.csv\"\n",
    "\n",
    "# Open CSV file and write header\n",
    "with open(csv_filename, \"w\", newline=\"\") as file:\n",
    "    writer = csv.writer(file)\n",
    "    writer.writerow([\"Time (s)\", \"PKPK (V)\", \"RMS (V)\", \"Frequency (Hz)\"])\n",
    "\n",
    "    print(\"📊 Starting measurements...\")\n",
    "\n",
    "    # Collect multiple measurements\n",
    "    for i in range(3):  # Adjust the number of samples\n",
    "        timestamp = time.time()  # Get current time\n",
    "        row_data = [f\"{timestamp:.3f}\"]  # Format timestamp to 3 decimal places\n",
    "\n",
    "        for key, command in measurements.items():\n",
    "            try:\n",
    "                response = scope.query(command)  # Query oscilloscope\n",
    "                value = response.split(\",\")[1].strip()  # Extract value\n",
    "                numeric_value = float(value.strip(\"VHz\"))  # Convert to float\n",
    "                formatted_value = f\"{numeric_value:.5g}\"  # Format to 3 significant figures\n",
    "                row_data.append(formatted_value)\n",
    "                print(f\"✅ {key}: {formatted_value}\")  # Display result\n",
    "            except Exception as e:\n",
    "                print(f\"⚠️ Error retrieving {key}: {e}\")\n",
    "                row_data.append(\"ERROR\")  # Mark errors in CSV\n",
    "\n",
    "        # Write row to CSV\n",
    "        writer.writerow(row_data)\n",
    "        print(f\"💾 Data saved: {row_data}\\n\")\n",
    "        time.sleep(1)  # Adjust sampling rate\n",
    "\n",
    "# Calculate execution time\n",
    "execution_time = time.time() - timestamp\n",
    "\n",
    "print(f\"✅ Measurement completed. Data saved in: {csv_filename}\")\n",
    "print(f\"⏱️ Execution time: {execution_time:.2f} seconds\")\n"
   ]
  },
  {
   "cell_type": "code",
   "execution_count": null,
   "metadata": {},
   "outputs": [],
   "source": []
  }
 ],
 "metadata": {
  "kernelspec": {
   "display_name": ".venv",
   "language": "python",
   "name": "python3"
  },
  "language_info": {
   "codemirror_mode": {
    "name": "ipython",
    "version": 3
   },
   "file_extension": ".py",
   "mimetype": "text/x-python",
   "name": "python",
   "nbconvert_exporter": "python",
   "pygments_lexer": "ipython3",
   "version": "3.12.9"
  }
 },
 "nbformat": 4,
 "nbformat_minor": 2
}
